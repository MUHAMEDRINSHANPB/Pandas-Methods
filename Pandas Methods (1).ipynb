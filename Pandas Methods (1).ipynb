{
 "cells": [
  {
   "cell_type": "markdown",
   "id": "4c17a337-252c-4646-ada9-c929aa5163e3",
   "metadata": {},
   "source": [
    "# PANDAS METHODS"
   ]
  },
  {
   "cell_type": "code",
   "execution_count": 36,
   "id": "f360ba3b-c8ee-4587-92f1-4ed2c8148a95",
   "metadata": {},
   "outputs": [],
   "source": [
    "import pandas as pd\n",
    "import numpy as np\n",
    "import matplotlib.pyplot as plt"
   ]
  },
  {
   "cell_type": "code",
   "execution_count": 3,
   "id": "d907090c-2e96-4b86-a3f0-811bb6653ede",
   "metadata": {},
   "outputs": [
    {
     "name": "stdout",
     "output_type": "stream",
     "text": [
      "    0   1   2\n",
      "0  50  40  30\n",
      "1   1   2   2\n"
     ]
    }
   ],
   "source": [
    "\n",
    "# abs() Method\n",
    "\n",
    "data = [[-50, 40, 30], [-1, 2, -2]]\n",
    "\n",
    "df = pd.DataFrame(data)\n",
    "\n",
    "print(df.abs())\n"
   ]
  },
  {
   "cell_type": "code",
   "execution_count": 65,
   "id": "fd5fbcb1-789f-49fa-9c6d-e7c2286b356e",
   "metadata": {},
   "outputs": [
    {
     "name": "stdout",
     "output_type": "stream",
     "text": [
      "   points  total\n",
      "0     115    365\n",
      "1     135    355\n",
      "2     129    417\n"
     ]
    }
   ],
   "source": [
    "\n",
    "# add() Method\n",
    "\n",
    "data = {\"points\": [100, 120, 114],\n",
    "        \"total\" : [350, 340, 402]}\n",
    "\n",
    "df = pd.DataFrame(data)\n",
    "\n",
    "print(df.add(15))\n"
   ]
  },
  {
   "cell_type": "code",
   "execution_count": 63,
   "id": "99b50204-0674-42f2-bcf8-aa74a37a5469",
   "metadata": {},
   "outputs": [
    {
     "name": "stdout",
     "output_type": "stream",
     "text": [
      "   person_age  person_qualified\n",
      "0          50              True\n",
      "1          40             False\n",
      "2          30             False\n",
      "3          40             False\n",
      "4          20             False\n",
      "5          10              True\n",
      "6          30              True\n"
     ]
    }
   ],
   "source": [
    "\n",
    "# add_prefix() Method\n",
    "\n",
    "data = {\"age\"      : [50, 40, 30, 40, 20, 10, 30],\n",
    "        \"qualified\": [True, False, False, False, False, True, True]}\n",
    "\n",
    "df = pd.DataFrame(data)\n",
    "\n",
    "df1 = df.add_prefix(\"person_\")\n",
    "\n",
    "print(df1)\n"
   ]
  },
  {
   "cell_type": "code",
   "execution_count": 61,
   "id": "5550817f-78a1-4c44-91f6-f4bc6319b5df",
   "metadata": {},
   "outputs": [
    {
     "name": "stdout",
     "output_type": "stream",
     "text": [
      "   ageafter_  qualifiedafter_\n",
      "0         50             True\n",
      "1         40            False\n",
      "2         30            False\n",
      "3         40            False\n",
      "4         20            False\n",
      "5         10             True\n",
      "6         30             True\n"
     ]
    }
   ],
   "source": [
    "\n",
    "# add_suffix()\n",
    "\n",
    "data = {\"age\"      : [50, 40, 30, 40, 20, 10, 30],\n",
    "        \"qualified\": [True, False, False, False, False, True, True]}\n",
    "\n",
    "df = pd.DataFrame(data)\n",
    "\n",
    "df1 = df.add_suffix(\"after_\")\n",
    "\n",
    "print(df1)\n"
   ]
  },
  {
   "cell_type": "code",
   "execution_count": 13,
   "id": "4c783356-425e-4315-a44a-9092ca45ac2b",
   "metadata": {},
   "outputs": [
    {
     "name": "stdout",
     "output_type": "stream",
     "text": [
      "       x     y\n",
      "sum  120  1350\n"
     ]
    }
   ],
   "source": [
    "\n",
    "# agg() Method\n",
    "\n",
    "data = {\"x\": [50, 40, 30],\n",
    "        \"y\": [300, 1000, 50]}\n",
    "\n",
    "df = pd.DataFrame(data)\n",
    "x = df.agg([\"sum\"])\n",
    "\n",
    "print(x)\n"
   ]
  },
  {
   "cell_type": "code",
   "execution_count": 25,
   "id": "8880a77c-1d96-4024-ae34-349668fd5097",
   "metadata": {},
   "outputs": [
    {
     "name": "stdout",
     "output_type": "stream",
     "text": [
      "    sum\n",
      "0   350\n",
      "1  1040\n",
      "2    80\n"
     ]
    }
   ],
   "source": [
    "\n",
    "# agg() Method\n",
    "\n",
    "data = {\"x\": [50, 40, 30],\n",
    "        \"y\": [300, 1000, 50]}\n",
    "\n",
    "df = pd.DataFrame(data)\n",
    "x = df.agg([\"sum\"], axis = 1)\n",
    "\n",
    "print(x)\n"
   ]
  },
  {
   "cell_type": "code",
   "execution_count": 47,
   "id": "694744f7-867c-4110-bae5-ac53ce3882f8",
   "metadata": {},
   "outputs": [
    {
     "name": "stdout",
     "output_type": "stream",
     "text": [
      "      x     y\n",
      "max  50  1000\n"
     ]
    }
   ],
   "source": [
    "\n",
    "# aggregate()\n",
    "\n",
    "data = {\"x\": [50, 40, 30],\n",
    "        \"y\": [300, 1000, 50]}\n",
    "\n",
    "df = pd.DataFrame(data)\n",
    "x = df.agg([\"max\"])\n",
    "\n",
    "print(x)\n"
   ]
  },
  {
   "cell_type": "code",
   "execution_count": 27,
   "id": "123fe751-927e-4a4a-aa76-529b22f493a3",
   "metadata": {},
   "outputs": [
    {
     "name": "stdout",
     "output_type": "stream",
     "text": [
      "    max\n",
      "0   300\n",
      "1  1000\n",
      "2    50\n"
     ]
    }
   ],
   "source": [
    "\n",
    "# aggregate()\n",
    "\n",
    "data = {\"x\": [50, 40, 30],\n",
    "        \"y\": [300, 1000, 50]}\n",
    "\n",
    "df = pd.DataFrame(data)\n",
    "x = df.agg([\"max\"], axis = 1)\n",
    "\n",
    "print(x)\n"
   ]
  },
  {
   "cell_type": "code",
   "execution_count": 33,
   "id": "d0932d32-032b-4955-ade5-548e63e3eb84",
   "metadata": {},
   "outputs": [
    {
     "name": "stdout",
     "output_type": "stream",
     "text": [
      "0     True\n",
      "1    False\n",
      "2     True\n",
      "dtype: bool\n"
     ]
    }
   ],
   "source": [
    "\n",
    "# all() Method\n",
    "\n",
    "data = [[True, False, True],\n",
    "        [True, True, True]]\n",
    "\n",
    "df = pd.DataFrame(data)\n",
    "\n",
    "print(df.all())\n"
   ]
  },
  {
   "cell_type": "code",
   "execution_count": 35,
   "id": "77384773-acf2-4f4c-9bc0-0beb00b2a65f",
   "metadata": {},
   "outputs": [
    {
     "name": "stdout",
     "output_type": "stream",
     "text": [
      "0    True\n",
      "1    True\n",
      "2    True\n",
      "dtype: bool\n"
     ]
    }
   ],
   "source": [
    "\n",
    "# any() Method\n",
    "\n",
    "data = [[True, False, True],\n",
    "        [True, True, True]]\n",
    "\n",
    "df = pd.DataFrame(data)\n",
    "\n",
    "print(df.any())\n"
   ]
  },
  {
   "cell_type": "code",
   "execution_count": 59,
   "id": "5161b235-c22c-4229-a023-f07f0ca12aad",
   "metadata": {},
   "outputs": [
    {
     "name": "stdout",
     "output_type": "stream",
     "text": [
      "   age  qualified\n",
      "0   16       True\n",
      "1   14       True\n",
      "2   10       True\n",
      "0   55       True\n",
      "1   40      False\n"
     ]
    }
   ],
   "source": [
    "\n",
    "# concat() Method\n",
    "\n",
    "data_1 = {\"age\"      : [16, 14, 10],\n",
    "          \"qualified\": [True, True, True]}\n",
    "\n",
    "df_1 = pd.DataFrame(data_1)\n",
    "\n",
    "data_2 = {\"age\"      : [55, 40],\n",
    "          \"qualified\": [True, False]}\n",
    "\n",
    "df_2 = pd.DataFrame(data_2)\n",
    "\n",
    "df = pd.concat((df_1, df_2))\n",
    "\n",
    "print(df)\n"
   ]
  },
  {
   "cell_type": "code",
   "execution_count": 57,
   "id": "3e84ac1b-40c0-4c37-ad9b-af7dc25fc862",
   "metadata": {},
   "outputs": [
    {
     "name": "stdout",
     "output_type": "stream",
     "text": [
      "   age  qualified    name\n",
      "0   16       True   Email\n",
      "1   14       True  Tobias\n",
      "2   10       True   linus\n"
     ]
    }
   ],
   "source": [
    "\n",
    "# assign() Method\n",
    "\n",
    "data = {\"age\"      : [16, 14, 10],\n",
    "        \"qualified\": [True, True, True]}\n",
    "\n",
    "df = pd.DataFrame(data)\n",
    "\n",
    "\n",
    "new = df.assign(name = [\"Email\", \"Tobias\",  \"linus\"])\n",
    "\n",
    "print(new)\n"
   ]
  },
  {
   "cell_type": "code",
   "execution_count": 77,
   "id": "38927784-53a6-408c-8a58-ebbbceb75c62",
   "metadata": {},
   "outputs": [
    {
     "name": "stdout",
     "output_type": "stream",
     "text": [
      "   Duration  Pulse  Calories\n",
      "0        50    109       409\n",
      "1        40    117       479\n",
      "2        45    110       340\n"
     ]
    }
   ],
   "source": [
    "\n",
    "# astype() Method\n",
    "\n",
    "data = {\"Duration\": [50, 40, 45],\n",
    "        \"Pulse\"   : [109, 117, 110],\n",
    "        \"Calories\": [409.1, 479.5, 340.8]}\n",
    "\n",
    "df = pd.DataFrame(data)\n",
    "\n",
    "new = df.astype('int64')\n",
    "\n",
    "print(new)\n"
   ]
  },
  {
   "cell_type": "code",
   "execution_count": 12,
   "id": "52087c74-0105-43af-bd3f-c2bc15c22fbc",
   "metadata": {},
   "outputs": [
    {
     "name": "stdout",
     "output_type": "stream",
     "text": [
      "farhan\n",
      "24\n",
      "False\n"
     ]
    }
   ],
   "source": [
    "\n",
    "# DataFrame (at) property - Method\n",
    "\n",
    "data = {\"name\"      : [\"mufeed\", \"farhan\", \"athul\"],\n",
    "        \"age\"       : [21, 24, 20],\n",
    "        \"qualified\" : [True, False, False]}\n",
    "\n",
    "df = pd.DataFrame(data)\n",
    "\n",
    "print(df.at[1, \"name\"])\n",
    "print(df.at[1, \"age\"])\n",
    "print(df.at[1, \"qualified\"])\n"
   ]
  },
  {
   "cell_type": "code",
   "execution_count": 10,
   "id": "fde0a775-cbf8-42ff-840c-d89d8aad5888",
   "metadata": {},
   "outputs": [
    {
     "name": "stdout",
     "output_type": "stream",
     "text": [
      "     name  age  qualified\n",
      "0   manaf   21       True\n",
      "1  farhan   24      False\n",
      "2   athul   20      False\n"
     ]
    }
   ],
   "source": [
    "\n",
    "# DataFrame (at) property - value set \n",
    "\n",
    "data = {\"name\"      : [\"mufeed\", \"farhan\", \"athul\"],\n",
    "        \"age\"       : [21, 24, 20],\n",
    "        \"qualified\" : [True, False, False]}\n",
    "\n",
    "df = pd.DataFrame(data)\n",
    "\n",
    "df.at[0, \"name\"] = \"manaf\"\n",
    "\n",
    "print(df)\n"
   ]
  },
  {
   "cell_type": "code",
   "execution_count": 127,
   "id": "d3d6c199-5497-4dc2-9e70-503a40dad0f1",
   "metadata": {},
   "outputs": [
    {
     "name": "stdout",
     "output_type": "stream",
     "text": [
      "     Duration  Pulse  Maxpulse  Calories\n",
      "0          60    110       130     409.1\n",
      "1          60    117       145     479.0\n",
      "2          60    103       135     340.0\n",
      "3          45    109       175     282.4\n",
      "4          45    117       148     406.0\n",
      "5          60    102       127     300.0\n",
      "6          60    110       136     374.0\n",
      "7          45    104       134     253.3\n",
      "8          30    109       133     195.1\n",
      "9          60     98       124     269.0\n",
      "10         60    103       147     329.3\n",
      "11         60    100       120     250.7\n",
      "12         60    106       128     345.3\n",
      "13         60    104       132     379.3\n",
      "14         60     98       123     275.0\n",
      "15         60     98       120     215.2\n",
      "16         60    100       120     300.0\n",
      "17         45     90       112     323.0\n",
      "18         60    103       123     323.0\n",
      "19         45     97       125     243.0\n",
      "20         60    108       131     364.2\n",
      "21         45    100       119     282.0\n",
      "22         60    130       101     300.0\n",
      "23         45    105       132     246.0\n",
      "24         60    102       126     334.5\n",
      "25         60    100       120     250.0\n",
      "26         60     92       118     241.0\n",
      "27         60    103       132     280.0\n",
      "28         60    100       132     280.0\n",
      "29         60    102       129     380.3\n",
      "30         60     92       115     243.0\n",
      "31         45     90       112     180.1\n",
      "32         60    101       124     299.0\n",
      "33         60     93       113     223.0\n",
      "34         60    107       136     361.0\n",
      "35         60    114       140     415.0\n",
      "36         60    102       127     300.0\n",
      "37         60    100       120     300.0\n",
      "38         60    100       120     300.0\n",
      "39         45    104       129     266.0\n",
      "40         45     90       112     180.1\n",
      "41         60     98       126     286.0\n",
      "42         60    100       122     329.4\n",
      "43         60    111       138     400.0\n",
      "44         60    111       131     397.0\n",
      "45         60     99       119     273.0\n",
      "46         60    109       153     387.6\n",
      "47         45    111       136     300.0\n",
      "48         45    108       129     298.0\n",
      "49         60    111       139     397.6\n",
      "50         60    107       136     380.2\n",
      "51         80    123       146     643.1\n",
      "52         60    106       130     263.0\n",
      "53         60    118       151     486.0\n",
      "54         30    136       175     238.0\n",
      "55         60    121       146     450.7\n",
      "56         60    118       121     413.0\n",
      "57         45    115       144     305.0\n",
      "58         20    153       172     226.4\n",
      "59         45    123       152     321.0\n",
      "60        210    108       160    1376.0\n",
      "61        160    110       137    1034.4\n",
      "62        160    109       135     853.0\n",
      "63         45    118       141     341.0\n",
      "64         20    110       130     131.4\n",
      "65        180     90       130     800.4\n",
      "66        150    105       135     873.4\n",
      "67        150    107       130     816.0\n",
      "68         20    106       136     110.4\n",
      "69        300    108       143    1500.2\n",
      "70        150     97       129    1115.0\n",
      "71         60    109       153     387.6\n",
      "72         90    100       127     700.0\n",
      "73        150     97       127     953.2\n",
      "74         45    114       146     304.0\n",
      "75         90     98       125     563.2\n",
      "76         45    105       134     251.0\n",
      "77         45    110       141     300.0\n",
      "78        120    100       130     500.4\n",
      "79        270    100       131    1729.0\n",
      "80         30    159       182     319.2\n",
      "81         45    149       169     344.0\n",
      "82         30    103       139     151.1\n",
      "83        120    100       130     500.0\n",
      "84         45    100       120     225.3\n",
      "85         30    151       170     300.0\n",
      "86         45    102       136     234.0\n",
      "87        120    100       157    1000.1\n",
      "88         45    129       103     242.0\n",
      "89         20     83       107      50.3\n",
      "90        180    101       127     600.1\n",
      "91         45    107       137     105.3\n",
      "92         30     90       107     105.3\n",
      "93         15     80       100      50.5\n",
      "94         20    150       171     127.4\n",
      "95         20    151       168     229.4\n",
      "96         30     95       128     128.2\n",
      "97         25    152       168     244.2\n",
      "98         30    109       131     188.2\n",
      "99         90     93       124     604.1\n",
      "100        20     95       112      77.7\n",
      "101        90     90       110     500.0\n",
      "102        90     90       100     500.0\n",
      "103        90     90       100     500.4\n",
      "104        30     92       108      92.7\n",
      "105        30     93       128     124.0\n",
      "106       180     90       120     800.3\n",
      "107        30     90       120      86.2\n",
      "108        90     90       120     500.3\n",
      "109       210    137       184    1860.4\n",
      "110        60    102       124     325.2\n",
      "111        45    107       124     275.0\n",
      "112        15    124       139     124.2\n",
      "113        45    100       120     225.3\n",
      "114        60    108       131     367.6\n",
      "115        60    108       151     351.7\n",
      "116        60    116       141     443.0\n",
      "117        60     97       122     277.4\n",
      "118        60    105       125     332.7\n",
      "119        60    103       124     332.7\n",
      "120        30    112       137     193.9\n",
      "121        45    100       120     100.7\n",
      "122        60    119       169     336.7\n",
      "123        60    107       127     344.9\n",
      "124        60    111       151     368.5\n",
      "125        60     98       122     271.0\n",
      "126        60     97       124     275.3\n",
      "127        60    109       127     382.0\n",
      "128        90     99       125     466.4\n",
      "129        60    114       151     384.0\n",
      "130        60    104       134     342.5\n",
      "131        60    107       138     357.5\n",
      "132        60    103       133     335.0\n",
      "133        60    106       132     327.5\n",
      "134        60    103       136     339.0\n",
      "135        20    136       156     189.0\n",
      "136        45    117       143     317.7\n",
      "137        45    115       137     318.0\n",
      "138        45    113       138     308.0\n",
      "139        20    141       162     222.4\n",
      "140        60    108       135     390.0\n",
      "141        60     97       127     250.4\n",
      "142        45    100       120     250.4\n",
      "143        45    122       149     335.4\n",
      "144        60    136       170     470.2\n",
      "145        45    106       126     270.8\n",
      "146        60    107       136     400.0\n",
      "147        60    112       146     361.9\n",
      "148        30    103       127     185.0\n",
      "149        60    110       150     409.4\n",
      "150        60    106       134     343.0\n",
      "151        60    109       129     353.2\n",
      "152        60    109       138     374.0\n",
      "153        30    150       167     275.8\n",
      "154        60    105       128     328.0\n",
      "155        60    111       151     368.5\n",
      "156        60     97       131     270.4\n",
      "157        60    100       120     270.4\n",
      "158        60    114       150     382.8\n",
      "159        30     80       120     240.9\n",
      "160        30     85       120     250.4\n",
      "161        45     90       130     260.4\n",
      "162        45     95       130     270.0\n",
      "163        45    100       140     280.9\n",
      "164        60    105       140     290.8\n",
      "165        60    110       145     300.0\n",
      "166        60    115       145     310.2\n",
      "167        75    120       150     320.4\n",
      "168        75    125       150     330.4\n"
     ]
    }
   ],
   "source": [
    "\n",
    "# bfill() Method\n",
    "\n",
    "df = pd.read_csv('data.csv')\n",
    "\n",
    "new = df.bfill()\n",
    "\n",
    "print(new.to_string())\n"
   ]
  },
  {
   "cell_type": "code",
   "execution_count": 8,
   "id": "0ceb3893-285d-4f87-9269-d24d1735f980",
   "metadata": {},
   "outputs": [
    {
     "name": "stdout",
     "output_type": "stream",
     "text": [
      "     name  age  qualified\n",
      "0  mufeed   21       True\n",
      "1  farhan   24      False\n",
      "2   athul   20      False\n"
     ]
    },
    {
     "name": "stderr",
     "output_type": "stream",
     "text": [
      "C:\\Users\\Pc\\AppData\\Local\\Temp\\ipykernel_4420\\2170297560.py:9: FutureWarning: Downcasting object dtype arrays on .fillna, .ffill, .bfill is deprecated and will change in a future version. Call result.infer_objects(copy=False) instead. To opt-in to the future behavior, set `pd.set_option('future.no_silent_downcasting', True)`\n",
      "  df_1 = df.bfill()\n"
     ]
    }
   ],
   "source": [
    "\n",
    "# bfill() method\n",
    "\n",
    "data = {\"name\"      : [\"mufeed\", \"farhan\", \"athul\"],\n",
    "        \"age\"       : [21, 24, 20],\n",
    "        \"qualified\" : [True, None, False]}\n",
    "\n",
    "df = pd.DataFrame(data)\n",
    "\n",
    "df_1 = df.bfill()\n",
    "\n",
    "print(df_1)\n"
   ]
  },
  {
   "cell_type": "code",
   "execution_count": 141,
   "id": "2c319965-c76e-43a3-949c-e3c3e444029f",
   "metadata": {},
   "outputs": [
    {
     "name": "stdout",
     "output_type": "stream",
     "text": [
      "[RangeIndex(start=0, stop=169, step=1), Index(['Duration', 'Pulse', 'Maxpulse', 'Calories'], dtype='object')]\n"
     ]
    }
   ],
   "source": [
    "\n",
    "# DataFrame (axes) Property - Method\n",
    "\n",
    "df = pd.read_csv('data.csv')\n",
    "\n",
    "print(df.axes)\n"
   ]
  },
  {
   "cell_type": "code",
   "execution_count": 4,
   "id": "8b606104-674b-4325-aaa4-b90f363e42b0",
   "metadata": {},
   "outputs": [
    {
     "name": "stdout",
     "output_type": "stream",
     "text": [
      "True\n"
     ]
    },
    {
     "name": "stderr",
     "output_type": "stream",
     "text": [
      "C:\\Users\\Pc\\AppData\\Local\\Temp\\ipykernel_4420\\908973157.py:7: FutureWarning: DataFrame.bool is now deprecated and will be removed in future version of pandas\n",
      "  print(df.bool())\n"
     ]
    }
   ],
   "source": [
    "\n",
    "# bool() Method\n",
    "\n",
    "data = {\"X\": [True]}\n",
    "\n",
    "df = pd.DataFrame(data)\n",
    "\n",
    "print(df.bool())\n"
   ]
  },
  {
   "cell_type": "code",
   "execution_count": 6,
   "id": "89fe921f-c244-4773-a56b-118806bfda7b",
   "metadata": {},
   "outputs": [
    {
     "name": "stdout",
     "output_type": "stream",
     "text": [
      "Index(['Duration', 'Pulse', 'Maxpulse', 'Calories'], dtype='object')\n"
     ]
    }
   ],
   "source": [
    "\n",
    "# columns Property\n",
    "\n",
    "df = pd.read_csv('data.csv')\n",
    "\n",
    "print(df.columns)\n"
   ]
  },
  {
   "cell_type": "code",
   "execution_count": 16,
   "id": "4b1109a7-35fd-444f-929e-434dd2f6e634",
   "metadata": {},
   "outputs": [
    {
     "name": "stdout",
     "output_type": "stream",
     "text": [
      "   0  1\n",
      "0  5  6\n",
      "1  7  8\n"
     ]
    }
   ],
   "source": [
    "\n",
    "# combine() Method\n",
    "\n",
    "df_1 = pd.DataFrame([[1, 2], [3, 4]])\n",
    "df_2 = pd.DataFrame([[5, 6], [7, 8]])\n",
    "\n",
    "def rinshan(a, b):\n",
    "  if (a.sum() > b.sum()):\n",
    "    return a\n",
    "  else:\n",
    "    return b\n",
    "\n",
    "print(df_1.combine(df_2, rinshan))\n"
   ]
  },
  {
   "cell_type": "code",
   "execution_count": 6,
   "id": "bd3e5753-e808-415e-8572-acb4e3cac5ef",
   "metadata": {},
   "outputs": [
    {
     "name": "stdout",
     "output_type": "stream",
     "text": [
      "Duration    4\n",
      "Pulse       6\n",
      "dtype: int64\n"
     ]
    }
   ],
   "source": [
    "\n",
    "# count() Method\n",
    "\n",
    "data = {\"Duration\": [50, 40, None, None, 90, 20],\n",
    "        \"Pulse\"   : [109, 140, 110, 125, 138, 170]}\n",
    "\n",
    "df = pd.DataFrame(data)\n",
    "\n",
    "print(df.count())\n"
   ]
  },
  {
   "cell_type": "code",
   "execution_count": 8,
   "id": "4953cef8-9947-4b72-91bf-d6e186791149",
   "metadata": {},
   "outputs": [
    {
     "name": "stdout",
     "output_type": "stream",
     "text": [
      "0    2\n",
      "1    2\n",
      "2    1\n",
      "3    1\n",
      "4    2\n",
      "5    2\n",
      "dtype: int64\n"
     ]
    }
   ],
   "source": [
    "\n",
    "# count() - columns Method\n",
    "\n",
    "data = {\"Duration\": [50, 40, None, None, 90, 20],\n",
    "        \"Pulse\"   : [109, 140, 110, 125, 138, 170]}\n",
    "\n",
    "df = pd.DataFrame(data)\n",
    "\n",
    "print(df.count(axis = \"columns\"))\n"
   ]
  },
  {
   "cell_type": "code",
   "execution_count": 14,
   "id": "7cbdd9e5-d080-4b10-81a3-55a350e15f41",
   "metadata": {},
   "outputs": [
    {
     "name": "stdout",
     "output_type": "stream",
     "text": [
      "Duration    169\n",
      "Pulse       169\n",
      "Maxpulse    169\n",
      "Calories    164\n",
      "dtype: int64\n"
     ]
    }
   ],
   "source": [
    "\n",
    "# count() - (Data csv Method)\n",
    "\n",
    "df = pd.read_csv('data.csv')\n",
    "\n",
    "print(df.count())\n"
   ]
  },
  {
   "cell_type": "code",
   "execution_count": 16,
   "id": "e3dc044c-798d-41e6-9356-b90fce2d54ce",
   "metadata": {},
   "outputs": [
    {
     "name": "stdout",
     "output_type": "stream",
     "text": [
      "0      4\n",
      "1      4\n",
      "2      4\n",
      "3      4\n",
      "4      4\n",
      "      ..\n",
      "164    4\n",
      "165    4\n",
      "166    4\n",
      "167    4\n",
      "168    4\n",
      "Length: 169, dtype: int64\n"
     ]
    }
   ],
   "source": [
    "\n",
    "# count() - columns (Data csv Method)\n",
    "\n",
    "df = pd.read_csv('data.csv')\n",
    "\n",
    "print(df.count(axis = \"columns\"))\n"
   ]
  },
  {
   "cell_type": "code",
   "execution_count": 20,
   "id": "faafe4bd-6669-4d3c-809c-c21559d1689b",
   "metadata": {},
   "outputs": [
    {
     "name": "stdout",
     "output_type": "stream",
     "text": [
      "     0    1    2\n",
      "0  4.5  0.0 -3.0\n",
      "1  0.0  0.0  0.0\n",
      "2 -3.0  0.0  2.0\n"
     ]
    }
   ],
   "source": [
    "\n",
    "# cov() Method\n",
    "\n",
    "data = [[5, 6, 7], [2, 6, 9]]\n",
    "\n",
    "df = pd.DataFrame(data)\n",
    "\n",
    "print(df.cov())\n"
   ]
  },
  {
   "cell_type": "code",
   "execution_count": 52,
   "id": "34b1b243-9983-43e8-a96a-2639e415425b",
   "metadata": {},
   "outputs": [
    {
     "name": "stdout",
     "output_type": "stream",
     "text": [
      "      Name Posission\n",
      "0  Ronaldo        LF\n",
      "1    Messi        RF\n",
      "2   Neymar        MF orginal\n",
      "      Name Posission\n",
      "0  Ronaldo        LF\n",
      "1    Messi        RF\n",
      "2   Haland        MF change\n"
     ]
    }
   ],
   "source": [
    "\n",
    "# copy() Method\n",
    "\n",
    "data = {\"Name\"     : [\"Ronaldo\", \"Messi\", \"Neymar\"],\n",
    "        \"Posission\": [\"LF\", \"RF\", \"MF\"]}\n",
    "\n",
    "df = pd.DataFrame(data)\n",
    "\n",
    "# Make a copy\n",
    "\n",
    "new = df.copy()\n",
    "\n",
    "new.loc[2, \"Name\"] = \"Haland\"\n",
    "\n",
    "print(df, \"orginal\")\n",
    "print(new, \"change\")\n"
   ]
  },
  {
   "cell_type": "code",
   "execution_count": 24,
   "id": "ad5cb6b2-29d4-471a-b029-4ec9fce0977f",
   "metadata": {},
   "outputs": [
    {
     "name": "stdout",
     "output_type": "stream",
     "text": [
      "      NAME QULIFIED  AGE\n",
      "0  Rinshan     sslc   12\n",
      "1    Athul  plusone   23\n",
      "2   Mufeed  plustwo    5\n",
      "3   Farhan     sslc    7\n",
      "4    Afnan   degree    9\n",
      "5  Shafeen  diploma   13\n",
      "6    Nadil      phd   60\n",
      "7   Shahid       pg   55\n",
      "8   Hermas     sslc   50\n",
      "9   Jaseel       ug    1\n",
      "      NAME QULIFIED     AGE\n",
      "0  Rinshan     sslc   Adult\n",
      "1    Athul  plusone   Adult\n",
      "2   Mufeed  plustwo   Child\n",
      "3   Farhan     sslc   Child\n",
      "4    Afnan   degree   Child\n",
      "5  Shafeen  diploma   Adult\n",
      "6    Nadil      phd  Senior\n",
      "7   Shahid       pg  Senior\n",
      "8   Hermas     sslc   Adult\n",
      "9   Jaseel       ug   Child\n"
     ]
    },
    {
     "name": "stderr",
     "output_type": "stream",
     "text": [
      "C:\\Users\\Pc\\AppData\\Local\\Temp\\ipykernel_2216\\1094182790.py:17: FutureWarning: Setting an item of incompatible dtype is deprecated and will raise an error in a future version of pandas. Value 'Adult' has dtype incompatible with int64, please explicitly cast to a compatible dtype first.\n",
      "  df.at[j, 'AGE'] = \"Adult\"\n"
     ]
    }
   ],
   "source": [
    "\n",
    "data = {'NAME'    : [\"Rinshan\", \"Athul\", \"Mufeed\", \"Farhan\", \"Afnan\", \"Shafeen\", \"Nadil\", \"Shahid\", \"Hermas\", \"Jaseel\"],\n",
    "        'QULIFIED': [\"sslc\", \"plusone\", \"plustwo\", \"sslc\", \"degree\", \"diploma\", \"phd\", \"pg\", \"sslc\", \"ug\"],\n",
    "        'AGE'     : [12, 23, 5, 7, 9, 13, 60, 55, 50, 1]}\n",
    "\n",
    "df = pd.DataFrame(data)\n",
    "\n",
    "print(df)\n",
    "\n",
    "j=0\n",
    "\n",
    "###\n",
    "\n",
    "for i in df['AGE']:\n",
    "    if i <=10:\n",
    "        df.at[j, 'AGE'] = \"Child\"\n",
    "    elif i >=10 and i <=50:\n",
    "        df.at[j, 'AGE'] = \"Adult\"\n",
    "    else:\n",
    "        df.at[j, 'AGE'] = \"Senior\"\n",
    "        \n",
    "    j=j+1\n",
    "\n",
    "print(df)\n"
   ]
  },
  {
   "cell_type": "code",
   "execution_count": 3,
   "id": "28aa2d69-aa77-4a17-bfe5-1be007e9caf8",
   "metadata": {},
   "outputs": [
    {
     "name": "stdout",
     "output_type": "stream",
     "text": [
      "    0   1   2\n",
      "0  10  18  11\n",
      "1  13  18  11\n",
      "2  13  20  11\n"
     ]
    }
   ],
   "source": [
    "\n",
    "# cummax() Method\n",
    "\n",
    "data = [[10, 18, 11], [13, 15, 8], [9, 20, 3]]\n",
    "\n",
    "df = pd.DataFrame(data)\n",
    "\n",
    "print(df.cummax())\n"
   ]
  },
  {
   "cell_type": "code",
   "execution_count": 11,
   "id": "44389438-33e4-45bc-b38e-35495fa510de",
   "metadata": {},
   "outputs": [
    {
     "name": "stdout",
     "output_type": "stream",
     "text": [
      "    0   1   2\n",
      "0  10  18  11\n",
      "1  10  15   8\n",
      "2   9  15   3\n"
     ]
    }
   ],
   "source": [
    "\n",
    "# cummin() Method\n",
    "\n",
    "data = [[10, 18, 11], [13, 15, 8], [9, 20, 3]]\n",
    "\n",
    "df = pd.DataFrame(data)\n",
    "\n",
    "print(df.cummin())\n"
   ]
  },
  {
   "cell_type": "code",
   "execution_count": 13,
   "id": "e804896d-7776-4a43-bbd2-94afea087535",
   "metadata": {},
   "outputs": [
    {
     "name": "stdout",
     "output_type": "stream",
     "text": [
      "      0     1    2\n",
      "0    10    18   11\n",
      "1   130   270   88\n",
      "2  1170  5400  264\n"
     ]
    }
   ],
   "source": [
    "\n",
    "# cumprod() Method\n",
    "\n",
    "data = [[10, 18, 11], [13, 15, 8], [9, 20, 3]]\n",
    "\n",
    "df = pd.DataFrame(data)\n",
    "\n",
    "print(df.cumprod())\n"
   ]
  },
  {
   "cell_type": "code",
   "execution_count": 15,
   "id": "f8d240f9-dcd1-44b5-af1b-29f5ea69b5a9",
   "metadata": {},
   "outputs": [
    {
     "name": "stdout",
     "output_type": "stream",
     "text": [
      "    0   1   2\n",
      "0  10  18  11\n",
      "1  23  33  19\n",
      "2  32  53  22\n"
     ]
    }
   ],
   "source": [
    "\n",
    "# cumsum() Method\n",
    "\n",
    "data = [[10, 18, 11], [13, 15, 8], [9, 20, 3]]\n",
    "\n",
    "df = pd.DataFrame(data)\n",
    "\n",
    "print(df.cumsum())\n"
   ]
  },
  {
   "cell_type": "code",
   "execution_count": 17,
   "id": "216b0414-ed97-4a15-afac-2b281042cac5",
   "metadata": {},
   "outputs": [
    {
     "name": "stdout",
     "output_type": "stream",
     "text": [
      "               0          1          2\n",
      "count   3.000000   3.000000   3.000000\n",
      "mean   10.666667  17.666667   7.333333\n",
      "std     2.081666   2.516611   4.041452\n",
      "min     9.000000  15.000000   3.000000\n",
      "25%     9.500000  16.500000   5.500000\n",
      "50%    10.000000  18.000000   8.000000\n",
      "75%    11.500000  19.000000   9.500000\n",
      "max    13.000000  20.000000  11.000000\n"
     ]
    }
   ],
   "source": [
    "\n",
    "# describe() Method\n",
    "\n",
    "data = [[10, 18, 11], [13, 15, 8], [9, 20, 3]]\n",
    "\n",
    "df = pd.DataFrame(data)\n",
    "\n",
    "print(df.describe())\n"
   ]
  },
  {
   "cell_type": "code",
   "execution_count": 21,
   "id": "db83a493-ff8f-44fc-87ec-590e5b2f0bda",
   "metadata": {},
   "outputs": [
    {
     "name": "stdout",
     "output_type": "stream",
     "text": [
      "             AGE\n",
      "count  10.000000\n",
      "mean   23.500000\n",
      "std    22.608995\n",
      "min     1.000000\n",
      "25%     7.500000\n",
      "50%    12.500000\n",
      "75%    43.250000\n",
      "max    60.000000\n"
     ]
    }
   ],
   "source": [
    "\n",
    "# describe\n",
    "\n",
    "data = {'NAME'    : [\"Rinshan\", \"Athul\", \"Mufeed\", \"Farhan\", \"Afnan\", \"Shafeen\", \"Nadil\", \"Shahid\", \"Hermas\", \"Jaseel\"],\n",
    "        'QULIFIED': [\"sslc\", \"plusone\", \"plustwo\", \"sslc\", \"degree\", \"diploma\", \"phd\", \"pg\", \"sslc\", \"ug\"],\n",
    "        'AGE'     : [12, 23, 5, 7, 9, 13, 60, 55, 50, 1]}\n",
    "\n",
    "df = pd.DataFrame(data)\n",
    "\n",
    "print(df.describe())\n"
   ]
  },
  {
   "cell_type": "code",
   "execution_count": null,
   "id": "05e20b5f-4a5b-4a1c-9726-2ca77479f0ee",
   "metadata": {},
   "outputs": [],
   "source": [
    "\n",
    "# describe() Method\n",
    "\n",
    "data = [[10, 18, 11], [13, 15, 8], [9, 20, 3]]\n",
    "\n",
    "df = pd.DataFrame(data)\n",
    "\n",
    "print(df.describe())\n"
   ]
  },
  {
   "cell_type": "code",
   "execution_count": 23,
   "id": "bb6c8599-b7c1-4aad-919a-4d97e36a1f4e",
   "metadata": {},
   "outputs": [
    {
     "name": "stdout",
     "output_type": "stream",
     "text": [
      "     0    1    2\n",
      "0  NaN  NaN  NaN\n",
      "1  3.0 -3.0 -3.0\n",
      "2 -4.0  5.0 -5.0\n"
     ]
    }
   ],
   "source": [
    "\n",
    "# diff() Method\n",
    "\n",
    "data = [[10, 18, 11], [13, 15, 8], [9, 20, 3]]\n",
    "\n",
    "df = pd.DataFrame(data)\n",
    "\n",
    "print(df.diff())\n"
   ]
  },
  {
   "cell_type": "code",
   "execution_count": 27,
   "id": "163423b7-5fb7-4f50-bc5c-4616b797bf23",
   "metadata": {},
   "outputs": [
    {
     "name": "stdout",
     "output_type": "stream",
     "text": [
      "   Points  Total\n",
      "0    10.0   35.0\n",
      "1    12.0   34.0\n",
      "2    11.4   40.2\n"
     ]
    }
   ],
   "source": [
    "\n",
    "# div() Method\n",
    "\n",
    "data = {\"Points\": [100, 120, 114],\n",
    "        \"Total\" : [350, 340, 402]}\n",
    "\n",
    "df = pd.DataFrame(data)\n",
    "\n",
    "print(df.div(10))\n"
   ]
  },
  {
   "cell_type": "code",
   "execution_count": 31,
   "id": "ab75c08a-0367-49a2-a655-fb7a1746ac7b",
   "metadata": {},
   "outputs": [
    {
     "name": "stdout",
     "output_type": "stream",
     "text": [
      "    0   1\n",
      "0  19  22\n",
      "1  43  50\n"
     ]
    }
   ],
   "source": [
    "\n",
    "# dot() Method\n",
    "\n",
    "df1 = pd.DataFrame([[1, 2], [3, 4]])\n",
    "df2 = pd.DataFrame([[5, 6], [7, 8]])\n",
    "\n",
    "print(df1.dot(df2))\n"
   ]
  },
  {
   "cell_type": "code",
   "execution_count": 35,
   "id": "2d100216-c991-4635-8b56-c61bdac6e69c",
   "metadata": {},
   "outputs": [
    {
     "name": "stdout",
     "output_type": "stream",
     "text": [
      "     Name  Qualify\n",
      "0  Antony     True\n",
      "1  Polson    False\n",
      "2    Jhon    False\n"
     ]
    }
   ],
   "source": [
    "\n",
    "# drop() Method\n",
    "\n",
    "data = {'Name'   : [\"Antony\", \"Polson\", \"Jhon\"],\n",
    "        'Age'    : [50, 40, 30],\n",
    "        'Qualify': [True, False, False]}\n",
    "\n",
    "df = pd.DataFrame(data)\n",
    "\n",
    "new = df.drop('Age', axis = 'columns')\n",
    "\n",
    "print(new)\n"
   ]
  },
  {
   "cell_type": "code",
   "execution_count": 6,
   "id": "54392ae0-d17a-4a9f-b91d-d5a1a1ca85d7",
   "metadata": {},
   "outputs": [
    {
     "name": "stdout",
     "output_type": "stream",
     "text": [
      "Duration      int64\n",
      "Pulse         int64\n",
      "Maxpulse      int64\n",
      "Calories    float64\n",
      "dtype: object\n"
     ]
    }
   ],
   "source": [
    "\n",
    "# dtypes() Method\n",
    "\n",
    "df = pd.read_csv('data.csv')\n",
    "\n",
    "print(df.dtypes)\n"
   ]
  },
  {
   "cell_type": "code",
   "execution_count": 8,
   "id": "8ec8ac62-1065-498e-8322-841d0f0e64f3",
   "metadata": {},
   "outputs": [
    {
     "name": "stdout",
     "output_type": "stream",
     "text": [
      "         Age  Qualify\n",
      "Ronaldo   50     True\n",
      "Messi     40    False\n",
      "Neymar    30    False\n"
     ]
    }
   ],
   "source": [
    "\n",
    "# rename() Method\n",
    "\n",
    "data = {\"Age\"    : [50, 40, 30],\n",
    "        \"Qualify\": [True, False, False]}\n",
    "\n",
    "x = [\"rinshan\", \"mufeed\", \"athul\"]\n",
    "\n",
    "df = pd.DataFrame(data, index = x)\n",
    "\n",
    "new = df.rename({\"rinshan\": 'Ronaldo', \"mufeed\": 'Messi', \"athul\": 'Neymar'})\n",
    "\n",
    "print(new)\n"
   ]
  },
  {
   "cell_type": "code",
   "execution_count": 8,
   "id": "7babe9cb-ad80-43fb-a077-fa5b9a8e7a23",
   "metadata": {},
   "outputs": [
    {
     "name": "stdout",
     "output_type": "stream",
     "text": [
      "0    False\n",
      "1    False\n",
      "2    False\n",
      "3    False\n",
      "4     True\n",
      "dtype: bool\n"
     ]
    }
   ],
   "source": [
    "\n",
    "# duplicated() Method\n",
    "\n",
    "data = {\"Name\": ['John', 'Mary', 'John', 'Sally', 'Mary'],\n",
    "        \"Age\" : [40, 30, 40, 50, 30],\n",
    "        \"City\": ['Bergen', 'Oslo', 'Stavanger', 'Oslo', 'Oslo']}\n",
    "\n",
    "df = pd.DataFrame(data)\n",
    "\n",
    "x = df.duplicated()\n",
    "\n",
    "print(x)\n"
   ]
  },
  {
   "cell_type": "code",
   "execution_count": 12,
   "id": "dc89dc65-ed70-461c-9d48-0c02e0f9909c",
   "metadata": {},
   "outputs": [
    {
     "name": "stdout",
     "output_type": "stream",
     "text": [
      "    Name  Age       City\n",
      "0   John   40     Bergen\n",
      "1   Mary   30       Oslo\n",
      "2   John   40  Stavanger\n",
      "3  Sally   50       Oslo\n"
     ]
    }
   ],
   "source": [
    "\n",
    "# drop_duplicates() Method\n",
    "\n",
    "data = {\"Name\": ['John', 'Mary', 'John', 'Sally', 'Mary'],\n",
    "        \"Age\" : [40, 30, 40, 50, 30],\n",
    "        \"City\": ['Bergen', 'Oslo', 'Stavanger', 'Oslo', 'Oslo']}\n",
    "\n",
    "df = pd.DataFrame(data)\n",
    "\n",
    "x = df.drop_duplicates()\n",
    "\n",
    "print(x)\n"
   ]
  },
  {
   "cell_type": "code",
   "execution_count": 14,
   "id": "a8223d3c-005d-4802-8949-169dcaf20932",
   "metadata": {},
   "outputs": [
    {
     "name": "stdout",
     "output_type": "stream",
     "text": [
      "       0      1      2\n",
      "0  False  False  False\n",
      "1  False  False   True\n"
     ]
    }
   ],
   "source": [
    "\n",
    "# eq() Method\n",
    "\n",
    "df = pd.DataFrame([[10, 12, 2], [3, 4, 7]])\n",
    "\n",
    "print(df.eq(7))\n"
   ]
  },
  {
   "cell_type": "code",
   "execution_count": 16,
   "id": "8ce98ba9-4ad3-44f3-b98a-e70cc0b9e4e8",
   "metadata": {},
   "outputs": [
    {
     "name": "stdout",
     "output_type": "stream",
     "text": [
      "0    1170\n",
      "1    5400\n",
      "2     264\n",
      "dtype: int64\n"
     ]
    }
   ],
   "source": [
    "\n",
    "# prod() Method\n",
    "\n",
    "data = [[10, 18, 11], [13, 15, 8], [9, 20, 3]]\n",
    "\n",
    "df = pd.DataFrame(data)\n",
    "\n",
    "print(df.prod())\n"
   ]
  },
  {
   "cell_type": "code",
   "execution_count": 18,
   "id": "5b0e7d4c-a78c-48cd-acc6-038650a3fee5",
   "metadata": {},
   "outputs": [
    {
     "name": "stdout",
     "output_type": "stream",
     "text": [
      "(169, 4)\n"
     ]
    }
   ],
   "source": [
    "\n",
    "# shape propety\n",
    "\n",
    "df = pd.read_csv('data.csv')\n",
    "\n",
    "print(df.shape)\n"
   ]
  },
  {
   "cell_type": "code",
   "execution_count": 20,
   "id": "075427fa-38cc-499d-8676-dcc49ab292d0",
   "metadata": {},
   "outputs": [
    {
     "name": "stdout",
     "output_type": "stream",
     "text": [
      "                0        1        2       3       4        5      6       7  \\\n",
      "NAME      Rinshan    Athul   Mufeed  Farhan   Afnan  Shafeen  Nadil  Shahid   \n",
      "QULIFIED     sslc  plusone  plustwo    sslc  degree  diploma    phd      pg   \n",
      "AGE            12       23        5       7       9       13     60      55   \n",
      "\n",
      "               8       9  \n",
      "NAME      Hermas  Jaseel  \n",
      "QULIFIED    sslc      ug  \n",
      "AGE           50       1  \n"
     ]
    }
   ],
   "source": [
    "\n",
    "# T property or transpose()\n",
    "\n",
    "data = {'NAME'    : [\"Rinshan\", \"Athul\", \"Mufeed\", \"Farhan\", \"Afnan\", \"Shafeen\", \"Nadil\", \"Shahid\", \"Hermas\", \"Jaseel\"],\n",
    "        'QULIFIED': [\"sslc\", \"plusone\", \"plustwo\", \"sslc\", \"degree\", \"diploma\", \"phd\", \"pg\", \"sslc\", \"ug\"],\n",
    "        'AGE'     : [12, 23, 5, 7, 9, 13, 60, 55, 50, 1]}\n",
    "\n",
    "df = pd.DataFrame(data)\n",
    "\n",
    "new = df.T\n",
    "\n",
    "print(new)\n"
   ]
  },
  {
   "cell_type": "code",
   "execution_count": 24,
   "id": "fd845f83-e90b-43fb-ad76-0707ace56b0e",
   "metadata": {},
   "outputs": [
    {
     "name": "stdout",
     "output_type": "stream",
     "text": [
      "[[  60.   110.   130.   409.1]\n",
      " [  60.   117.   145.   479. ]\n",
      " [  60.   103.   135.   340. ]\n",
      " [  45.   109.   175.   282.4]\n",
      " [  45.   117.   148.   406. ]\n",
      " [  60.   102.   127.   300. ]\n",
      " [  60.   110.   136.   374. ]\n",
      " [  45.   104.   134.   253.3]\n",
      " [  30.   109.   133.   195.1]\n",
      " [  60.    98.   124.   269. ]\n",
      " [  60.   103.   147.   329.3]\n",
      " [  60.   100.   120.   250.7]\n",
      " [  60.   106.   128.   345.3]\n",
      " [  60.   104.   132.   379.3]\n",
      " [  60.    98.   123.   275. ]\n",
      " [  60.    98.   120.   215.2]\n",
      " [  60.   100.   120.   300. ]\n",
      " [  45.    90.   112.     nan]\n",
      " [  60.   103.   123.   323. ]\n",
      " [  45.    97.   125.   243. ]\n",
      " [  60.   108.   131.   364.2]\n",
      " [  45.   100.   119.   282. ]\n",
      " [  60.   130.   101.   300. ]\n",
      " [  45.   105.   132.   246. ]\n",
      " [  60.   102.   126.   334.5]\n",
      " [  60.   100.   120.   250. ]\n",
      " [  60.    92.   118.   241. ]\n",
      " [  60.   103.   132.     nan]\n",
      " [  60.   100.   132.   280. ]\n",
      " [  60.   102.   129.   380.3]\n",
      " [  60.    92.   115.   243. ]\n",
      " [  45.    90.   112.   180.1]\n",
      " [  60.   101.   124.   299. ]\n",
      " [  60.    93.   113.   223. ]\n",
      " [  60.   107.   136.   361. ]\n",
      " [  60.   114.   140.   415. ]\n",
      " [  60.   102.   127.   300. ]\n",
      " [  60.   100.   120.   300. ]\n",
      " [  60.   100.   120.   300. ]\n",
      " [  45.   104.   129.   266. ]\n",
      " [  45.    90.   112.   180.1]\n",
      " [  60.    98.   126.   286. ]\n",
      " [  60.   100.   122.   329.4]\n",
      " [  60.   111.   138.   400. ]\n",
      " [  60.   111.   131.   397. ]\n",
      " [  60.    99.   119.   273. ]\n",
      " [  60.   109.   153.   387.6]\n",
      " [  45.   111.   136.   300. ]\n",
      " [  45.   108.   129.   298. ]\n",
      " [  60.   111.   139.   397.6]\n",
      " [  60.   107.   136.   380.2]\n",
      " [  80.   123.   146.   643.1]\n",
      " [  60.   106.   130.   263. ]\n",
      " [  60.   118.   151.   486. ]\n",
      " [  30.   136.   175.   238. ]\n",
      " [  60.   121.   146.   450.7]\n",
      " [  60.   118.   121.   413. ]\n",
      " [  45.   115.   144.   305. ]\n",
      " [  20.   153.   172.   226.4]\n",
      " [  45.   123.   152.   321. ]\n",
      " [ 210.   108.   160.  1376. ]\n",
      " [ 160.   110.   137.  1034.4]\n",
      " [ 160.   109.   135.   853. ]\n",
      " [  45.   118.   141.   341. ]\n",
      " [  20.   110.   130.   131.4]\n",
      " [ 180.    90.   130.   800.4]\n",
      " [ 150.   105.   135.   873.4]\n",
      " [ 150.   107.   130.   816. ]\n",
      " [  20.   106.   136.   110.4]\n",
      " [ 300.   108.   143.  1500.2]\n",
      " [ 150.    97.   129.  1115. ]\n",
      " [  60.   109.   153.   387.6]\n",
      " [  90.   100.   127.   700. ]\n",
      " [ 150.    97.   127.   953.2]\n",
      " [  45.   114.   146.   304. ]\n",
      " [  90.    98.   125.   563.2]\n",
      " [  45.   105.   134.   251. ]\n",
      " [  45.   110.   141.   300. ]\n",
      " [ 120.   100.   130.   500.4]\n",
      " [ 270.   100.   131.  1729. ]\n",
      " [  30.   159.   182.   319.2]\n",
      " [  45.   149.   169.   344. ]\n",
      " [  30.   103.   139.   151.1]\n",
      " [ 120.   100.   130.   500. ]\n",
      " [  45.   100.   120.   225.3]\n",
      " [  30.   151.   170.   300. ]\n",
      " [  45.   102.   136.   234. ]\n",
      " [ 120.   100.   157.  1000.1]\n",
      " [  45.   129.   103.   242. ]\n",
      " [  20.    83.   107.    50.3]\n",
      " [ 180.   101.   127.   600.1]\n",
      " [  45.   107.   137.     nan]\n",
      " [  30.    90.   107.   105.3]\n",
      " [  15.    80.   100.    50.5]\n",
      " [  20.   150.   171.   127.4]\n",
      " [  20.   151.   168.   229.4]\n",
      " [  30.    95.   128.   128.2]\n",
      " [  25.   152.   168.   244.2]\n",
      " [  30.   109.   131.   188.2]\n",
      " [  90.    93.   124.   604.1]\n",
      " [  20.    95.   112.    77.7]\n",
      " [  90.    90.   110.   500. ]\n",
      " [  90.    90.   100.   500. ]\n",
      " [  90.    90.   100.   500.4]\n",
      " [  30.    92.   108.    92.7]\n",
      " [  30.    93.   128.   124. ]\n",
      " [ 180.    90.   120.   800.3]\n",
      " [  30.    90.   120.    86.2]\n",
      " [  90.    90.   120.   500.3]\n",
      " [ 210.   137.   184.  1860.4]\n",
      " [  60.   102.   124.   325.2]\n",
      " [  45.   107.   124.   275. ]\n",
      " [  15.   124.   139.   124.2]\n",
      " [  45.   100.   120.   225.3]\n",
      " [  60.   108.   131.   367.6]\n",
      " [  60.   108.   151.   351.7]\n",
      " [  60.   116.   141.   443. ]\n",
      " [  60.    97.   122.   277.4]\n",
      " [  60.   105.   125.     nan]\n",
      " [  60.   103.   124.   332.7]\n",
      " [  30.   112.   137.   193.9]\n",
      " [  45.   100.   120.   100.7]\n",
      " [  60.   119.   169.   336.7]\n",
      " [  60.   107.   127.   344.9]\n",
      " [  60.   111.   151.   368.5]\n",
      " [  60.    98.   122.   271. ]\n",
      " [  60.    97.   124.   275.3]\n",
      " [  60.   109.   127.   382. ]\n",
      " [  90.    99.   125.   466.4]\n",
      " [  60.   114.   151.   384. ]\n",
      " [  60.   104.   134.   342.5]\n",
      " [  60.   107.   138.   357.5]\n",
      " [  60.   103.   133.   335. ]\n",
      " [  60.   106.   132.   327.5]\n",
      " [  60.   103.   136.   339. ]\n",
      " [  20.   136.   156.   189. ]\n",
      " [  45.   117.   143.   317.7]\n",
      " [  45.   115.   137.   318. ]\n",
      " [  45.   113.   138.   308. ]\n",
      " [  20.   141.   162.   222.4]\n",
      " [  60.   108.   135.   390. ]\n",
      " [  60.    97.   127.     nan]\n",
      " [  45.   100.   120.   250.4]\n",
      " [  45.   122.   149.   335.4]\n",
      " [  60.   136.   170.   470.2]\n",
      " [  45.   106.   126.   270.8]\n",
      " [  60.   107.   136.   400. ]\n",
      " [  60.   112.   146.   361.9]\n",
      " [  30.   103.   127.   185. ]\n",
      " [  60.   110.   150.   409.4]\n",
      " [  60.   106.   134.   343. ]\n",
      " [  60.   109.   129.   353.2]\n",
      " [  60.   109.   138.   374. ]\n",
      " [  30.   150.   167.   275.8]\n",
      " [  60.   105.   128.   328. ]\n",
      " [  60.   111.   151.   368.5]\n",
      " [  60.    97.   131.   270.4]\n",
      " [  60.   100.   120.   270.4]\n",
      " [  60.   114.   150.   382.8]\n",
      " [  30.    80.   120.   240.9]\n",
      " [  30.    85.   120.   250.4]\n",
      " [  45.    90.   130.   260.4]\n",
      " [  45.    95.   130.   270. ]\n",
      " [  45.   100.   140.   280.9]\n",
      " [  60.   105.   140.   290.8]\n",
      " [  60.   110.   145.   300. ]\n",
      " [  60.   115.   145.   310.2]\n",
      " [  75.   120.   150.   320.4]\n",
      " [  75.   125.   150.   330.4]]\n"
     ]
    }
   ],
   "source": [
    "\n",
    "# values Proerty\n",
    "\n",
    "df = pd.read_csv('data.csv')\n",
    "\n",
    "print(df.values)\n",
    "\n",
    "# 2 - dimmensional array with one array for each row.\n"
   ]
  },
  {
   "cell_type": "code",
   "execution_count": 36,
   "id": "7850d1b1-a468-4481-a429-2ba60fedc6fd",
   "metadata": {},
   "outputs": [
    {
     "name": "stdout",
     "output_type": "stream",
     "text": [
      "    Age Qualify\n",
      "0   NaN     NaN\n",
      "1   NaN     NaN\n",
      "2  30.0   False\n",
      "3   NaN     NaN\n",
      "4  20.0   False\n",
      "5  10.0    True\n",
      "6  30.0    True\n"
     ]
    }
   ],
   "source": [
    "\n",
    "# mask() Method\n",
    "\n",
    "data = {\"Age\"    : [50, 40, 30, 40, 20, 10, 30],\n",
    "        \"Qualify\": [True, False, False, False, False, True, True]}\n",
    "\n",
    "df = pd.DataFrame(data)\n",
    "\n",
    "new = df.mask(df[\"Age\"] > 30)\n",
    "\n",
    "print(new)\n",
    "\n",
    "# The mask() method replace the values of the rows where the condition evaluates to True.\n",
    "# The mask() method is the opposite of the The \"where()\" method.\n",
    "# The mask() method replace to \"Nall value\" \n"
   ]
  },
  {
   "cell_type": "code",
   "execution_count": 34,
   "id": "3317a3e8-441a-4b49-b9a9-ab48a620fba8",
   "metadata": {},
   "outputs": [
    {
     "name": "stdout",
     "output_type": "stream",
     "text": [
      "    Age Qualify\n",
      "0  50.0    True\n",
      "1  40.0   False\n",
      "2   NaN     NaN\n",
      "3  40.0   False\n",
      "4   NaN     NaN\n",
      "5   NaN     NaN\n",
      "6   NaN     NaN\n"
     ]
    }
   ],
   "source": [
    "\n",
    "# where() Method\n",
    "\n",
    "data = {\"Age\"    : [50, 40, 30, 40, 20, 10, 30],\n",
    "        \"Qualify\": [True, False, False, False, False, True, True]}\n",
    "\n",
    "df = pd.DataFrame(data)\n",
    "\n",
    "new = df.where(df[\"Age\"] > 30)\n",
    "\n",
    "print(new)\n",
    "\n",
    "# The where() method replace the values of the rows where the condition evaluates to False.\n",
    "# The where() method is the opposite of the The \"mask()\" method.\n",
    "# The where() method replace to \"Nall value\" \n"
   ]
  },
  {
   "cell_type": "code",
   "execution_count": 38,
   "id": "33689037-3149-4f55-8488-4ce75865f595",
   "metadata": {},
   "outputs": [
    {
     "name": "stdout",
     "output_type": "stream",
     "text": [
      "    Duration  Pulse  Maxpulse  Calories\n",
      "5         60    102       127     300.0\n",
      "10        60    103       147     329.3\n"
     ]
    }
   ],
   "source": [
    "\n",
    "# take() Method\n",
    "\n",
    "df = pd.read_csv('data.csv')\n",
    "\n",
    "print(df.take([5, 10]))\n",
    "\n",
    "# The take() method returns the \"specified rows\" from the DataFrame.\n"
   ]
  },
  {
   "cell_type": "code",
   "execution_count": 40,
   "id": "2fa8a458-9758-4332-868a-000127e78252",
   "metadata": {},
   "outputs": [
    {
     "name": "stdout",
     "output_type": "stream",
     "text": [
      "   Points  Total\n",
      "0      85    335\n",
      "1     105    285\n",
      "2     125    385\n"
     ]
    }
   ],
   "source": [
    "\n",
    "# sub() Method\n",
    "\n",
    "data = {\"Points\": [100, 120, 140],\n",
    "        \"Total\" : [350, 300, 400]}\n",
    "\n",
    "df = pd.DataFrame(data)\n",
    "\n",
    "print(df.sub(15))\n",
    "\n",
    "# The sub() method subtracts each value in the DataFrame with a specified value.\n"
   ]
  },
  {
   "cell_type": "code",
   "execution_count": 28,
   "id": "4963d0a0-eba2-44e6-acc5-aa61e8071572",
   "metadata": {},
   "outputs": [
    {
     "name": "stdout",
     "output_type": "stream",
     "text": [
      "   Age  Qualify\n",
      "3   40    False\n",
      "4   20    False\n",
      "5   10     True\n"
     ]
    }
   ],
   "source": [
    "\n",
    "# truncate() method\n",
    "\n",
    "data = {\"Age\"    : [50, 40, 30, 40, 20, 10, 30],\n",
    "        \"Qualify\": [True, False, False, False, False, True, True]}\n",
    "\n",
    "df = pd.DataFrame(data)\n",
    "\n",
    "new = df.truncate(before = 3, after = 5)\n",
    "\n",
    "print(new)\n",
    "\n",
    "# The truncate() method removes elements before and after the specified indexes or labels.\n",
    "# Use the axis = 'columns' parameter to remove specified.\n"
   ]
  },
  {
   "cell_type": "code",
   "execution_count": 30,
   "id": "527b411c-b988-428d-862f-9c254ac4a38a",
   "metadata": {},
   "outputs": [
    {
     "name": "stdout",
     "output_type": "stream",
     "text": [
      "    Duration  Pulse  Maxpulse  Calories\n",
      "88        45    129       103     242.0\n"
     ]
    }
   ],
   "source": [
    "\n",
    "# sample() Method\n",
    "\n",
    "df = pd.read_csv('data.csv')\n",
    "\n",
    "print(df.sample())\n",
    "\n",
    "# The sample() method returns a specified number of random rows.\n",
    "# The sample() method returns 1 row if a number is not specified.\n",
    "\n"
   ]
  },
  {
   "cell_type": "code",
   "execution_count": 32,
   "id": "e8478044-92a5-448b-b64b-4acc4398c262",
   "metadata": {},
   "outputs": [
    {
     "name": "stdout",
     "output_type": "stream",
     "text": [
      "       0       1      2\n",
      "0  Email  Tobias  Linus\n",
      "1     16      14     10\n",
      "update        0       1      2\n",
      "0  Email  Tobias  Linus\n",
      "1     17      14     10\n"
     ]
    }
   ],
   "source": [
    "\n",
    "# update() Method\n",
    "\n",
    "df_1 = pd.DataFrame([[\"Email\", \"Tobias\", \"Linus\"], [16, 14, 10]])\n",
    "df_2 = pd.DataFrame([[\"Email\"], [17]])\n",
    "\n",
    "print(df_1)\n",
    "\n",
    "df_1.update(df_2)\n",
    "\n",
    "print(\"update\", df_1)\n",
    "\n",
    "# The \"update()\" method updates a DataFrame with elements from another similar object (like another DataFrame).\n"
   ]
  },
  {
   "cell_type": "code",
   "execution_count": 34,
   "id": "84b0388c-2738-4a37-8386-b85116dd82bf",
   "metadata": {},
   "outputs": [
    {
     "name": "stdout",
     "output_type": "stream",
     "text": [
      "      NAME  AGE\n",
      "0  Rinshan   12\n",
      "1    Athul   23\n",
      "2   Mufeed    5\n",
      "3   Farhan    7\n",
      "4    Afnan    9\n",
      "5  Shafeen   13\n",
      "6    Nadil   60\n",
      "7   Shahid   55\n",
      "8   Hermas   50\n",
      "9   Jaseel    1\n"
     ]
    }
   ],
   "source": [
    "\n",
    "# pop() Method\n",
    "\n",
    "data = {'NAME'    : [\"Rinshan\", \"Athul\", \"Mufeed\", \"Farhan\", \"Afnan\", \"Shafeen\", \"Nadil\", \"Shahid\", \"Hermas\", \"Jaseel\"],\n",
    "        'QULIFY': [\"sslc\", \"plusone\", \"plustwo\", \"sslc\", \"degree\", \"diploma\", \"phd\", \"pg\", \"sslc\", \"ug\"],\n",
    "        'AGE'     : [12, 23, 5, 7, 9, 13, 60, 55, 50, 1]}\n",
    "\n",
    "df = pd.DataFrame(data)\n",
    "\n",
    "# Remove colum:\n",
    "\n",
    "df.pop('QULIFY')\n",
    "\n",
    "print(df)\n",
    "\n",
    "# The \"pop()\" method removes the specified column from the DataFrame.\n"
   ]
  },
  {
   "cell_type": "markdown",
   "id": "2fd0e95d-a69d-43ff-934c-27b13b5f4dd6",
   "metadata": {},
   "source": [
    "# Plotting Method"
   ]
  },
  {
   "cell_type": "code",
   "execution_count": 38,
   "id": "b91c76ae-cd14-4528-a1e5-87ae34b2dd1e",
   "metadata": {},
   "outputs": [
    {
     "data": {
      "image/png": "[encoded data removed]",
      "text/plain": [
       "<Figure size 640x480 with 1 Axes>"
      ]
     },
     "metadata": {},
     "output_type": "display_data"
    }
   ],
   "source": [
    "\n",
    "# pandas - plotting\n",
    "\n",
    "df = pd.read_csv('data.csv')\n",
    "\n",
    "df.plot()\n",
    "\n",
    "plt.show()\n"
   ]
  },
  {
   "cell_type": "code",
   "execution_count": 47,
   "id": "e1443446-f436-4ef4-9e06-64ee6fd00968",
   "metadata": {},
   "outputs": [
    {
     "data": {
      "image/png": "[encoded data removed]",
      "text/plain": [
       "<Figure size 640x480 with 1 Axes>"
      ]
     },
     "metadata": {},
     "output_type": "display_data"
    }
   ],
   "source": [
    "\n",
    "# Scatter plot\n",
    "\n",
    "df = pd.read_csv('data.csv')\n",
    "\n",
    "df.plot(kind = 'scatter', x = 'Duration', y = 'Calories')\n",
    "\n",
    "plt.show()\n",
    "\n",
    "# Specify that you want a scatter plot with the kind argument:\n",
    "# (kind = \"scatter\")\n"
   ]
  },
  {
   "cell_type": "code",
   "execution_count": 49,
   "id": "79f42cb3-c6b1-41d7-95b6-4ec5be471368",
   "metadata": {},
   "outputs": [
    {
     "data": {
      "image/png": "[encoded data removed]",
      "text/plain": [
       "<Figure size 640x480 with 1 Axes>"
      ]
     },
     "metadata": {},
     "output_type": "display_data"
    }
   ],
   "source": [
    "\n",
    "# Another Scatter plot\n",
    "\n",
    "df = pd.read_csv('data.csv')\n",
    "\n",
    "df.plot(kind = 'scatter', x = 'Duration', y = 'Maxpulse')\n",
    "\n",
    "plt.show()\n"
   ]
  },
  {
   "cell_type": "code",
   "execution_count": 53,
   "id": "10b7341d-fad5-441e-95d8-11f28ecf2f81",
   "metadata": {},
   "outputs": [
    {
     "data": {
      "text/plain": [
       "<Axes: ylabel='Frequency'>"
      ]
     },
     "execution_count": 53,
     "metadata": {},
     "output_type": "execute_result"
    },
    {
     "data": {
      "image/png": "[encoded data removed]",
      "text/plain": [
       "<Figure size 640x480 with 1 Axes>"
      ]
     },
     "metadata": {},
     "output_type": "display_data"
    }
   ],
   "source": [
    "\n",
    "# Histogram\n",
    "\n",
    "df[\"Duration\"].plot(kind = 'hist')\n",
    "\n",
    "# use the kind argument to specify that you want a histogram\n",
    "# (kind = \"hist\")\n"
   ]
  },
  {
   "cell_type": "code",
   "execution_count": 57,
   "id": "9962ad4e-cc5e-4eed-a14d-133b69225793",
   "metadata": {},
   "outputs": [
    {
     "data": {
      "text/plain": [
       "<seaborn.axisgrid.PairGrid at 0x167c4d3c560>"
      ]
     },
     "execution_count": 57,
     "metadata": {},
     "output_type": "execute_result"
    },
    {
     "data": {
      "image/png": "[encoded data removed]",
      "text/plain": [
       "<Figure size 1000x1000 with 20 Axes>"
      ]
     },
     "metadata": {},
     "output_type": "display_data"
    }
   ],
   "source": [
    "\n",
    "# Pair plot\n",
    "\n",
    "import seaborn as sns\n",
    "\n",
    "sns.pairplot(df)\n"
   ]
  }
 ],
 "metadata": {
  "kernelspec": {
   "display_name": "Python 3 (ipykernel)",
   "language": "python",
   "name": "python3"
  },
  "language_info": {
   "codemirror_mode": {
    "name": "ipython",
    "version": 3
   },
   "file_extension": ".py",
   "mimetype": "text/x-python",
   "name": "python",
   "nbconvert_exporter": "python",
   "pygments_lexer": "ipython3",
   "version": "3.12.4"
  }
 },
 "nbformat": 4,
 "nbformat_minor": 5
}
